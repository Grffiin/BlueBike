{
 "cells": [
  {
   "cell_type": "code",
   "execution_count": null,
   "metadata": {
    "pycharm": {
     "is_executing": false,
     "name": "#%%\n"
    }
   },
   "outputs": [],
   "source": [
    "# Import libraries\n",
    "from calendar import monthrange\n",
    "from datetime import datetime, timedelta\n",
    "from pandas import DataFrame, Series\n",
    "import pandas as pd\n",
    "import numpy as np\n",
    "import re"
   ]
  },
  {
   "cell_type": "code",
   "execution_count": null,
   "metadata": {
    "pycharm": {
     "is_executing": false
    }
   },
   "outputs": [],
   "source": [
    "# global constants\n",
    "path_to_data = \"./bbdata\""
   ]
  },
  {
   "cell_type": "code",
   "execution_count": null,
   "metadata": {
    "pycharm": {
     "is_executing": false
    }
   },
   "outputs": [],
   "source": [
    "# Loads a month of data, given year and month number\n",
    "# TODO: document\n",
    "def load_month_trip_data(year, month):\n",
    "    trips = pd.read_csv(f\"{path_to_data}/trips/{year}{month:02d}.csv\",\n",
    "                      parse_dates=[\"starttime\", \"stoptime\"])\n",
    "    \n",
    "    # Drop unnecessary columns\n",
    "    trips.drop(\"start station name\", axis=1, inplace=True)\n",
    "    trips.drop(\"end station name\", axis=1, inplace=True)\n",
    "    trips.drop(\"bikeid\", axis=1, inplace=True)\n",
    "    trips.drop(\"usertype\", axis=1, inplace=True)\n",
    "    trips.drop(\"birth year\", axis=1, inplace=True)\n",
    "    trips.drop(\"gender\", axis=1, inplace=True)\n",
    "    \n",
    "    trips['starttime'] = pd.to_datetime(trips['starttime'])\n",
    "    trips['stoptime'] = pd.to_datetime(trips['stoptime'])\n",
    "    \n",
    "    trips['start station latitude'] = pd.to_numeric(trips['start station latitude'])\n",
    "    trips['start station longitude'] = pd.to_numeric(trips['start station longitude'])\n",
    "    return trips"
   ]
  },
  {
   "cell_type": "code",
   "execution_count": null,
   "metadata": {
    "pycharm": {
     "is_executing": false,
     "name": "#%%\n"
    }
   },
   "outputs": [],
   "source": [
    "# Loads trip data from start_year/start_month to end_year/end_month\n",
    "def load_trip_date(start_year, start_month, end_year, end_month):\n",
    "    trips = DataFrame()\n",
    "    for year in range(start_year, end_year + 1):\n",
    "        for month in range(start_month, 13 if start_year is not end_year else end_month + 1):\n",
    "            trips.append(load_month_trip_data(year, month))\n",
    "        start_month = 1\n",
    "    return trips"
   ]
  },
  {
   "cell_type": "code",
   "execution_count": null,
   "metadata": {
    "pycharm": {
     "is_executing": false,
     "name": "#%%\n"
    }
   },
   "outputs": [],
   "source": [
    "# Loads station data\n",
    "# TODO: document\n",
    "def load_station_data():\n",
    "    stations = pd.read_csv(f\"{path_to_data}/station_data.csv\")\n",
    "    stations.drop(\"Station\", axis=1, inplace=True)\n",
    "    return stations"
   ]
  },
  {
   "cell_type": "code",
   "execution_count": null,
   "metadata": {
    "scrolled": false
   },
   "outputs": [],
   "source": [
    "# Loads weather data\n",
    "# TODO: document\n",
    "all_weather = pd.read_csv(f\"{path_to_data}/weather_data_daily.csv\")\n",
    "\n",
    "all_weather.drop([\"STATION\",\"NAME\",\"LATITUDE\",\"LONGITUDE\",\"ELEVATION\"], axis = 1, inplace = True)    \n",
    "all_weather[['YEAR','MONTH','DAY']] = all_weather['DATE'].str.split('-',expand=True)\n",
    "all_weather.drop([\"DATE\"], axis = 1, inplace = True)\n",
    "\n",
    "all_weather[\"YEAR\"] = pd.to_numeric(all_weather[\"YEAR\"])\n",
    "all_weather[\"DAY\"] = pd.to_numeric(all_weather[\"DAY\"])\n",
    "all_weather[\"MONTH\"] = pd.to_numeric(all_weather[\"MONTH\"])\n",
    "all_weather[\"PRCP\"] = pd.to_numeric(all_weather[\"PRCP\"])\n",
    "all_weather[\"SNOW\"] = pd.to_numeric(all_weather[\"SNOW\"])\n",
    "all_weather[\"TMIN\"] = pd.to_numeric(all_weather[\"TMIN\"])\n",
    "all_weather[\"TMAX\"] = pd.to_numeric(all_weather[\"TMAX\"])\n",
    "all_weather[\"TAVG\"] = pd.to_numeric(all_weather[\"TAVG\"])\n",
    "\n",
    "all_weather.apply(lambda row: ((row['TMIN'] * row['TMAX']) / 2) if np.isnan(row['TAVG']) else row['TAVG'], \n",
    "                  axis = 1)\n",
    "\n",
    "# Loads weather data\n",
    "# TODO: document\n",
    "def load_weather_data(day, month, year):\n",
    "    weather = all_weather.loc[(all_weather['YEAR'] == year) \\\n",
    "                              & (all_weather['DAY'] == day) \\\n",
    "                              & (all_weather['MONTH'] == month)].copy()\n",
    "    weather.drop(['YEAR','MONTH','DAY'], axis = 1, inplace = True)\n",
    "    weather.reset_index()\n",
    "    return dict(weather.iloc[0])"
   ]
  },
  {
   "cell_type": "code",
   "execution_count": null,
   "metadata": {
    "pycharm": {
     "is_executing": false,
     "name": "#%%\n"
    }
   },
   "outputs": [],
   "source": [
    "# TODO: document\n",
    "def get_starting_trips_in_range(trips, start, end):\n",
    "    mask = (trips['starttime'] > start) & (trips['starttime'] <= end)\n",
    "    return trips.loc[mask]\n",
    "\n",
    "# TODO: document\n",
    "def get_ending_trips_in_range(trips, start, end):\n",
    "    \n",
    "    mask = (trips['stoptime'] > start) & (trips['stoptime'] <= end)\n",
    "    return trips.loc[mask]"
   ]
  },
  {
   "cell_type": "code",
   "execution_count": null,
   "metadata": {
    "pycharm": {
     "is_executing": false
    }
   },
   "outputs": [],
   "source": [
    "# Process trip data into time series with availability value for each staation\n",
    "# TODO: document\n",
    "# time_step_delta should evenly divide minutes in a day (60 * 24 = 1440)\n",
    "def trips_to_availability_time_series(start_year, start_month, \n",
    "                                      end_year, end_month, \n",
    "                                      time_step_delta, \n",
    "                                      export_url,\n",
    "                                      verbose_level=0):\n",
    "    if verbose_level >= 0:\n",
    "        print(\"Starting time series generation\")\n",
    "    # TODO: offload to file after n steps?\n",
    "    stations = load_station_data()\n",
    "    \n",
    "    step_delta = timedelta(minutes=time_step_delta)\n",
    "    \n",
    "    end_time = datetime(end_year, end_month, monthrange(end_year, end_month)[1], 23, 59)\n",
    "    \n",
    "    current_time = datetime(start_year, start_month, 1, 0, 0)\n",
    "    current_month_trip_data = load_month_trip_data(current_time.year, current_time.month)\n",
    "    \n",
    "    if verbose_level >= 1:\n",
    "        print(f\"Starting with ({current_time.strftime('%b')} {current_time.year})\")\n",
    "    \n",
    "    current_day_weather_data = load_weather_data(current_time.day, current_time.month, current_time.year)\n",
    "    if verbose_level >= 3:\n",
    "        print(f\"\\t\\tLoaded Weather data for {current_time.strftime('%b')} {current_time.day} - {current_time.year}\")\n",
    "    \n",
    "    time_series = [] # use to compute current available bikes\n",
    "\n",
    "    while current_time <= end_time:\n",
    "        next_time = current_time + step_delta\n",
    "        \n",
    "        current_starting_trips = get_starting_trips_in_range(current_month_trip_data, current_time, next_time)\n",
    "        current_ending_trips = get_ending_trips_in_range(current_month_trip_data, current_time, next_time)\n",
    "        \n",
    "        for index, station in stations.iterrows():\n",
    "            mask_from = current_starting_trips[\"start station latitude\"] == station[\"Latitude\"]\n",
    "            mask_to = current_ending_trips[\"end station latitude\"] == station[\"Latitude\"]\n",
    "            trips_from_station = current_starting_trips.loc[mask_from].shape[0]\n",
    "            trips_to_station = current_ending_trips.loc[mask_to].shape[0]\n",
    "                \n",
    "            station_time_series_entry = {\n",
    "                \"time_step_start\": current_time, \n",
    "                \"time_step_end\": next_time, \n",
    "                \"station\": station[\"Station ID\"], \n",
    "                \"latitude\": station[\"Latitude\"], \n",
    "                \"longitude\": station[\"Longitude\"], \n",
    "                \"municipality\": station[\"Municipality\"], \n",
    "                \"total_docks\": station[\"# of Docks\"], \n",
    "                \"trips_from_station\": trips_from_station,\n",
    "                \"trips_to_station\": trips_to_station, \n",
    "                \"PRCP\": current_day_weather_data[\"PRCP\"],\n",
    "                \"SNOW\": current_day_weather_data[\"SNOW\"],\n",
    "                \"TMIN\": current_day_weather_data[\"TMIN\"],\n",
    "                \"TMAX\": current_day_weather_data[\"TMAX\"],\n",
    "                \"TAVG\": current_day_weather_data[\"TAVG\"]\n",
    "            }\n",
    "                        \n",
    "            time_series.append(station_time_series_entry)\n",
    "            \n",
    "        if verbose_level >= 2:\n",
    "            print(f\"\\tCompleted time step [{current_time} --- {next_time}]; Current rows: {len(time_series)}\")\n",
    "            \n",
    "        if current_time.month is not next_time.month:\n",
    "            # Export to csv\n",
    "            time_series_df = DataFrame(time_series)\n",
    "            with open(export_url, 'a') as file:\n",
    "                time_series_df.to_csv(file, header = file.tell() == 0, index = False, line_terminator = '\\n')\n",
    "            if verbose_level >= 3:\n",
    "                print(\"Exported to file.\")\n",
    "            \n",
    "            # Next month\n",
    "            current_month_trip_data = load_month_trip_data(next_time.year, next_time.month)\n",
    "            if verbose_level >= 1:\n",
    "                print(f\"Moving to next month ({next_time.strftime('%b')} {next_time.year})\")\n",
    "                \n",
    "        if current_time.day is not next_time.day:\n",
    "            current_day_weather_data = load_weather_data(next_time.day, next_time.month, next_time.year)\n",
    "            if verbose_level >= 3:\n",
    "                print(f\"\\t\\tLoaded Weather data for {next_time.strftime('%b')} {next_time.day} - {next_time.year}\")\n",
    "        \n",
    "        current_time = next_time\n",
    "        \n",
    "    if verbose_level >= 0:\n",
    "        print(\"Completed full date range\")"
   ]
  },
  {
   "cell_type": "code",
   "execution_count": null,
   "metadata": {
    "pycharm": {
     "name": "#%%\n"
    }
   },
   "outputs": [],
   "source": [
    "trips_to_availability_time_series(2015, 1, 2018, 12, 60 * 24 * 30, \"./timeseries.monthly.csv\",        verbose_level = 0)\n",
    "trips_to_availability_time_series(2015, 1, 2018, 12, 60 * 24 * 7,  \"./timeseries.weekly.csv\",         verbose_level = 0)\n",
    "trips_to_availability_time_series(2015, 1, 2018, 12, 60 * 24,      \"./timeseries.daily.csv\",          verbose_level = 0)\n",
    "trips_to_availability_time_series(2015, 1, 2018, 12, 60 * 12,      \"./timeseries.12-hour-ly.csv\",     verbose_level = 0)\n",
    "trips_to_availability_time_series(2015, 1, 2018, 12, 60 * 6,       \"./timeseries.6-hour-ly.csv\",      verbose_level = 0)\n",
    "trips_to_availability_time_series(2015, 1, 2018, 12, 60,           \"./timeseries.hourly.csv\",         verbose_level = 0)\n",
    "trips_to_availability_time_series(2015, 1, 2018, 12, 30,           \"./timeseries.half-hourly.csv\",    verbose_level = 0)\n",
    "trips_to_availability_time_series(2015, 1, 2018, 12, 15,           \"./timeseries.quarter-hourly.csv\", verbose_level = 0)\n",
    "trips_to_availability_time_series(2015, 1, 2018, 12, 5,            \"./timeseries.5-minute-ly.csv\",    verbose_level = 0)"
   ]
  },
  {
   "cell_type": "code",
   "execution_count": null,
   "metadata": {},
   "outputs": [],
   "source": []
  }
 ],
 "metadata": {
  "kernelspec": {
   "display_name": "Python 3",
   "language": "python",
   "name": "python3"
  },
  "language_info": {
   "codemirror_mode": {
    "name": "ipython",
    "version": 3
   },
   "file_extension": ".py",
   "mimetype": "text/x-python",
   "name": "python",
   "nbconvert_exporter": "python",
   "pygments_lexer": "ipython3",
   "version": "3.7.3"
  },
  "pycharm": {
   "stem_cell": {
    "cell_type": "raw",
    "metadata": {
     "collapsed": false
    },
    "source": []
   }
  }
 },
 "nbformat": 4,
 "nbformat_minor": 2
}
